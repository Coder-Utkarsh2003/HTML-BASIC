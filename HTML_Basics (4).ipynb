{
  "nbformat": 4,
  "nbformat_minor": 0,
  "metadata": {
    "colab": {
      "provenance": []
    },
    "kernelspec": {
      "name": "python3",
      "display_name": "Python 3"
    },
    "language_info": {
      "name": "python"
    }
  },
  "cells": [
    {
      "cell_type": "markdown",
      "source": [
        "#HTML Basics"
      ],
      "metadata": {
        "id": "9N3eMq4kkdt9"
      }
    },
    {
      "cell_type": "code",
      "source": [
        "#Explain the basic structure of an HTML page\n",
        "#CODE FOR BASIC HTML STRUCTURE\n",
        "<!DOCTYPE html>\n",
        "<html lang=\"en\">\n",
        "<head>\n",
        "    <meta charset=\"UTF-8\">\n",
        "    <meta name=\"viewport\" content=\"width=device-width, initial-scale=1.0\">\n",
        "    <title>Document Title</title>\n",
        "</head>\n",
        "<body>\n",
        "    <!-- Page content goes here -->\n",
        "</body>\n",
        "</html>"
      ],
      "metadata": {
        "id": "lD9C1B2ZIMn4"
      },
      "execution_count": null,
      "outputs": []
    },
    {
      "cell_type": "code",
      "source": [
        "#Building a small personal profile page.\n",
        "#Example:\n",
        "'''<!DOCTYPE html>\n",
        "<html lang=\"en\">\n",
        "<head>\n",
        "  <meta charset=\"UTF-8\" />\n",
        "  <title>My Profile</title>\n",
        "</head>\n",
        "<body>\n",
        "<h1>Utkarsh Kumar Srivastava</h1> <!-- Your Name -->\n",
        "<p>I am a passionate web developer with a strong interest in creating responsive and user-friendly websites..</p> <!-- Description -->\n",
        "<p>My key skill is <strong>JavaScript</strong>, which I use to bring interactivity to web pages.</p> <!-- Emphasized Skill -->\n",
        "</body>\n",
        "</html>'''"
      ],
      "metadata": {
        "id": "GfwH4x-IHX84"
      },
      "execution_count": null,
      "outputs": []
    },
    {
      "cell_type": "code",
      "source": [
        "#Can you find and fix the mistake?\n",
        "#<!-- This is an HTML comment\n",
        "#<h1>Welcome to my website</h1>\n",
        "'''Fixed code\n",
        "Corrected Code:\n",
        "<!-- This is an HTML comment -->\n",
        "<h1>Welcome to my website</h1>'''"
      ],
      "metadata": {
        "id": "CyNi_ZvLH7SL"
      },
      "execution_count": null,
      "outputs": []
    },
    {
      "cell_type": "code",
      "source": [
        "#creating a form that asks the user to enter their name, select their country from a list, and click a button to submit. Write the HTML code for this.\n",
        "'''<!DOCTYPE html>\n",
        "<html lang=\"en\">\n",
        "<head>\n",
        "  <meta charset=\"UTF-8\">\n",
        "  <title>User Form</title>\n",
        "</head>\n",
        "<body>\n",
        "  <h2>User Information Form</h2>\n",
        "  <form action=\"/submit\" method=\"post\">\n",
        "    <!-- Name Input -->\n",
        "    <label for=\"name\">Name:</label>\n",
        "    <input type=\"text\" id=\"name\" name=\"name\" required><br><br>\n",
        "    <!-- Country Dropdown -->\n",
        "    <label for=\"country\">Country:</label>\n",
        "    <select id=\"country\" name=\"country\" required>\n",
        "      <option value=\"\">--Select Country--</option>\n",
        "      <option value=\"india\">India</option>\n",
        "      <option value=\"usa\">United States</option>\n",
        "      <option value=\"uk\">United Kingdom</option>\n",
        "      <option value=\"canada\">Canada</option>\n",
        "    </select><br><br>\n",
        "    <!-- Submit Button -->\n",
        "    <button type=\"submit\">Submit</button>\n",
        "  </form>\n",
        "</body>\n",
        "</html>'''"
      ],
      "metadata": {
        "id": "igv-gAqvIgJa"
      },
      "execution_count": null,
      "outputs": []
    },
    {
      "cell_type": "code",
      "source": [
        "#Code to show your favorite fruits in a bulleted list and your top 3 programming languages in a numbered list.\n",
        "'''<!DOCTYPE html>\n",
        "<html>\n",
        "<head>\n",
        "    <title>My Favorites</title>\n",
        "</head>\n",
        "<body>\n",
        "    <h2>My Favorite Fruits</h2>\n",
        "    <ul>\n",
        "        <li>Mango</li>\n",
        "        <li>Banana</li>\n",
        "        <li>Apple</li>\n",
        "        <li>Kiwi</li>\n",
        "    </ul>\n",
        "    <h2>My Top 3 Programming Languages</h2>\n",
        "    <ol>\n",
        "        <li>Python</li>\n",
        "        <li>R</li>\n",
        "        <li>React.js</li>\n",
        "    </ol>\n",
        "</body>\n",
        "</html>'''"
      ],
      "metadata": {
        "id": "vMOXAvs5IuqC"
      },
      "execution_count": null,
      "outputs": []
    },
    {
      "cell_type": "code",
      "source": [
        "# Code for Ravi wants to leave a note in his HTML file so that only other developers can see it, not the users on the website.\n",
        "'''<!DOCTYPE html>\n",
        "<html>\n",
        "<head>\n",
        "    <title>My Website</title>\n",
        "</head>\n",
        "<body>\n",
        "    <!-- TODO: Update the header with new branding -->\n",
        "    <h1>Welcome to my site!</h1>\n",
        "    <p>This is visible to users.</p>\n",
        "\n",
        "    <!--Note for developers:This section needs optimization for mobile devices. -->\n",
        "</body>\n",
        "</html>'''"
      ],
      "metadata": {
        "id": "Iqizeu61I-Lr"
      },
      "execution_count": null,
      "outputs": []
    },
    {
      "cell_type": "code",
      "source": [
        "# spoting the error and rewrite the correct version?\n",
        "'''Wrong code\n",
        "<form>\n",
        " <input name=\"email\">\n",
        " <select>\n",
        " <option>India</option>\n",
        " </select>\n",
        " <button>Send</button>\n",
        "</form>'''\n",
        "'''The correct version are:\n",
        "<form>\n",
        "  <input type=\"email\" name=\"email\" placeholder=\"Enter your email\" required>\n",
        "  <select name=\"country\" required>\n",
        "    <option value=\"\">--Select Country--</option>\n",
        "    <option value=\"india\">India</option>\n",
        " </select> <button type=\"submit\">Send</button>\n",
        "</form>'''"
      ],
      "metadata": {
        "id": "3Tm6Bn9jJQxH"
      },
      "execution_count": null,
      "outputs": []
    }
  ]
}